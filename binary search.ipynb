{
 "cells": [
  {
   "cell_type": "code",
   "execution_count": null,
   "metadata": {},
   "outputs": [],
   "source": [
    "#!/usr/bin/env python\n",
    "\n",
    "import random\n",
    "from typing import List\n",
    "\n",
    "\n",
    "def binary_search(arr: List[int], lb: int, ub: int, target: int) -> int:\n",
    "    \"\"\"\n",
    "    A Binary Search Example which has O(log n) time complexity.\n",
    "    \"\"\"\n",
    "    if lb <= ub:\n",
    "        mid: int = lb + (ub - lb) // 2\n",
    "        if arr[mid] == target:\n",
    "            return mid\n",
    "        elif arr[mid] < target:\n",
    "            return binary_search(arr, mid + 1, ub, target)\n",
    "        else:\n",
    "            return binary_search(arr, lb, mid - 1, target)\n",
    "    else:\n",
    "        return -1\n",
    "\n",
    "\n",
    "if __name__ == '__main__':\n",
    "    rand_num_li: List[int] = sorted([random.randint(1, 50) for _ in range(10)])\n",
    "    target: int = random.randint(1, 50)\n",
    "    print(\"List: {}\\nTarget: {}\\nIndex: {}\".format(\n",
    "        rand_num_li, target,\n",
    "        binary_search(rand_num_li, 0, len(rand_num_li) - 1, target)))"
   ]
  }
 ],
 "metadata": {
  "language_info": {
   "name": "python"
  },
  "orig_nbformat": 4
 },
 "nbformat": 4,
 "nbformat_minor": 2
}
